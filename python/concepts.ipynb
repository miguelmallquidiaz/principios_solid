{
 "cells": [
  {
   "cell_type": "markdown",
   "metadata": {},
   "source": [
    "# Principios SOLID de la programación orientado a objetos\n",
    "\n",
    "El proposito es que en el desarrollo de software el código debe ser escalable, flexible y entendible para otros programadores, esto ayudará a realizar un mejor mantenimiento.\n",
    "\n",
    "Saber como funciona me va a ayudar tomar mejores decisiones a la hora de programar. Pero como todo no esta dicho, esto se puede romper en algunos casos.\n",
    "\n",
    "## Principio de responsabilidad Única (SRP)\n",
    "\n",
    "Cada clase debe tener una sola responsabilidad, si algún cambio se necesita hacer solo se modificará en esa clase sin afectar a otras.\n",
    "\n",
    "## Principio de abierto y cerrado (OCP)\n",
    "\n",
    "Abierto: Añadir nuevas funcionalidades sin modificar el código existente\n",
    "Cerrdao: Cuando se añada nuevas funcionalidades, esto no debe alterar o modificar el código que ya tengo implementado.\n",
    "- En java se utilizaría las interfaces para este caso.\n",
    "\n",
    "## Principio de sustitución de Liskov (LSP)\n",
    "\n",
    "La clase padre o superclase va a tener un comportamiento base que va a heredar la clase hija. Yo puedo cambiar la clase por la subclase y el programa tiene que seguir funcionando correctamente y no tiene que funcionar de una manera inesperada.\n",
    "\n",
    "## Principio de Segregación de Interfaces (ISP)\n",
    "\n",
    "- La interfaz sirve como si fuera un contrato de una plantilla, la clase puede implementar o no.\n",
    "\n",
    "Diseñar las interfaces para cada tipo de lógica en vez de una general.\n",
    "\n",
    "## Principio de Inversión de Dependencias (DIP)\n",
    "\n",
    "Los modulos de alto nivel no deben depender de los de bajo nivel, lo que deben depender todos es de las abstraciones y esas abstraciones deben depender de las implementaciones.\n",
    "- Dependecia de abstraciones: La parte del negocio de negocio los que se realiza la tarea especifica generar una dependencia entre los modulos de alto nivel y los de bajo nivel.\n",
    "- En vez que este tan acoplado, los modulos de alto y bajo nivel deben depender de abstraciones\n",
    "- Inversión de abstraciones: Los modulos de bajo nivel implementan las abstraciones definidas por los modulos de alto nivel. "
   ]
  }
 ],
 "metadata": {
  "language_info": {
   "name": "python"
  }
 },
 "nbformat": 4,
 "nbformat_minor": 2
}
